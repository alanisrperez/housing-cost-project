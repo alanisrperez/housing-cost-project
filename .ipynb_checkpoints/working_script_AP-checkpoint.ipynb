{
 "cells": [
  {
   "cell_type": "code",
   "execution_count": null,
   "id": "627a7dc3-e01f-4697-b297-3d413f9a411a",
   "metadata": {},
   "outputs": [],
   "source": [
    "# WORKING SCRIPT - ALANIS"
   ]
  },
  {
   "cell_type": "code",
   "execution_count": null,
   "id": "81e1b212-f993-4408-b36a-e918c21b0773",
   "metadata": {},
   "outputs": [],
   "source": [
    "import pandas as pd\n",
    "import matplotlib.pyplot as plt\n",
    "import numpy as num\n",
    "\n",
    "# Ignore all warnings\n",
    "import warnings\n",
    "warnings.filterwarnings(\"ignore\")"
   ]
  },
  {
   "cell_type": "code",
   "execution_count": null,
   "id": "08977065-c343-49b4-b884-0df1e901f264",
   "metadata": {},
   "outputs": [],
   "source": [
    "# Read CSV files\n",
    "# Median Homevalue\n",
    "home_data_path = \"data/avg_cost_by_county.csv\"\n",
    "home_data = pd.read_csv(home_data_path)\n",
    "\n",
    "# Arrest Records\n",
    "crime_data_path = \"data/crim_by_county.csv\"\n",
    "food_loss = pd.read_csv(crime_data_path)"
   ]
  },
  {
   "cell_type": "code",
   "execution_count": null,
   "id": "81180b21-9a6f-4bf4-88ff-fbde70c5afcd",
   "metadata": {},
   "outputs": [],
   "source": [
    "# Filter home data file\n",
    "food_loss_df = food_loss[[\"m49_code\", \"country\", \"commodity\", \"year\", \"loss_percentage\", \"food_supply_stage\"]]\n",
    "food_loss_df.head()"
   ]
  },
  {
   "cell_type": "code",
   "execution_count": null,
   "id": "d480197c-cc68-456b-9797-82a314d9fa93",
   "metadata": {},
   "outputs": [],
   "source": [
    "# Filter crime data file"
   ]
  },
  {
   "cell_type": "code",
   "execution_count": null,
   "id": "2ad1f331-aff4-444e-b0fe-9c7273e52a90",
   "metadata": {},
   "outputs": [],
   "source": [
    "home_df.head()"
   ]
  },
  {
   "cell_type": "code",
   "execution_count": null,
   "id": "56d2f5da-c6b1-4bd9-93ce-211130fbb8d4",
   "metadata": {},
   "outputs": [],
   "source": [
    "crime_df.head()"
   ]
  }
 ],
 "metadata": {
  "kernelspec": {
   "display_name": "Python 3 (ipykernel)",
   "language": "python",
   "name": "python3"
  },
  "language_info": {
   "codemirror_mode": {
    "name": "ipython",
    "version": 3
   },
   "file_extension": ".py",
   "mimetype": "text/x-python",
   "name": "python",
   "nbconvert_exporter": "python",
   "pygments_lexer": "ipython3",
   "version": "3.11.7"
  }
 },
 "nbformat": 4,
 "nbformat_minor": 5
}
