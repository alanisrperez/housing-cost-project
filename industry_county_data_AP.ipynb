{
 "cells": [
  {
   "cell_type": "code",
   "execution_count": 44,
   "id": "e7785013-493c-4b8e-8d96-30d8f7caf822",
   "metadata": {},
   "outputs": [],
   "source": [
    "## INDUSTRY BY COUNTY DATA - Alanis Perez"
   ]
  },
  {
   "cell_type": "code",
   "execution_count": 46,
   "id": "f0adde8d-ebb0-41cf-9454-dfd8db03de97",
   "metadata": {},
   "outputs": [],
   "source": [
    "import pandas as pd\n",
    "import glob\n",
    "import os\n",
    "\n",
    "# Ignore all warnings\n",
    "import warnings\n",
    "warnings.filterwarnings(\"ignore\")"
   ]
  },
  {
   "cell_type": "code",
   "execution_count": 48,
   "id": "783b40f4-8e23-440c-82f3-f3cad8beac21",
   "metadata": {},
   "outputs": [
    {
     "name": "stdout",
     "output_type": "stream",
     "text": [
      "Processing complete. Combined files saved in 'Industry_combined_data' directory.\n"
     ]
    }
   ],
   "source": [
    "# Define paths (input & output)\n",
    "input_directory = 'data/OG_county'\n",
    "output_directory = 'data/Industry_combined_data'\n",
    "\n",
    "# Function to combine industry into categories\n",
    "def industry_combine(file_path):\n",
    "    with open(file_path, 'r') as file:\n",
    "        lines = file.readlines()\n",
    "\n",
    "    # Find the index of \"Total, All Industries\" (SKIP ALL ROWS PRIOR THIS LINE!)\n",
    "    start_index = None\n",
    "    for i, line in enumerate(lines):\n",
    "        if \"Total, All Industries\" in line:\n",
    "            start_index = i + 1  # Start AFTER \"Total, All Industries\"\n",
    "            break\n",
    "\n",
    "    if start_index is not None:\n",
    "        data = []\n",
    "        for line in lines[start_index:]:\n",
    "            stripped_line = line.strip()\n",
    "            leading_spaces = len(line) - len(stripped_line)\n",
    "            indentation_level = leading_spaces // 2  # There are 2 spaces per indentation\n",
    "            \n",
    "            # Append the line and its indentation level to the data list\n",
    "            data.append((stripped_line, indentation_level))\n",
    "\n",
    "        # Create a DataFrame from the data\n",
    "        df = pd.DataFrame(data, columns=['Industry', 'Indentation Level'])\n",
    "\n",
    "        # Filter the DataFrame to include only rows with indentation levels of 3 or greater\n",
    "        df_filtered = df[df['Indentation Level'] >= 3] # Anything below 3 indents will not be a good representation of the category\n",
    "\n",
    "        # Create a new DataFrame to hold combined categories\n",
    "        combined_data = []\n",
    "        current_main_category = None\n",
    "        current_subcategories = []\n",
    "\n",
    "        for index, row in df_filtered.iterrows():\n",
    "            industry = row['Industry']\n",
    "            indentation_level = row['Indentation Level']\n",
    "\n",
    "            if indentation_level == 3: # This will be the main category\n",
    "                if current_main_category is not None:\n",
    "                    combined_data.append((current_main_category, ', '.join(current_subcategories)))\n",
    "\n",
    "                current_main_category = industry # Start the new main category\n",
    "                current_subcategories = []  # Reset subcategories list\n",
    "\n",
    "            elif indentation_level == 4: # This will be the subcategory\n",
    "                current_subcategories.append(industry)\n",
    "\n",
    "        if current_main_category is not None:\n",
    "            combined_data.append((current_main_category, ', '.join(current_subcategories)))\n",
    "\n",
    "        # Create new DF from the combined data\n",
    "        combined_df = pd.DataFrame(combined_data, columns=['Main Category', 'Subcategories'])\n",
    "\n",
    "        return combined_df\n",
    "    else:\n",
    "        print(\"No main categories found.\")\n",
    "        return pd.DataFrame()  # In case any data frames come back empty\n",
    "\n",
    "# Process each CSV file (county) in the input directory\n",
    "for filename in os.listdir(input_directory):\n",
    "    if filename.endswith('.csv'):\n",
    "        file_path = os.path.join(input_directory, filename)\n",
    "        combined_df = industry_combine(file_path)\n",
    "\n",
    "        # Save the combined DataFrame to a new CSV file in the output directory\n",
    "        output_file_path = os.path.join(output_directory, f'combined_{filename}')\n",
    "        combined_df.to_csv(output_file_path, index=False)\n",
    "\n",
    "print(\"Processing complete. Combined files saved in 'Industry_combined_data' directory.\")"
   ]
  },
  {
   "cell_type": "code",
   "execution_count": 50,
   "id": "33fa53fc-5c34-42eb-ab5c-0928a4136066",
   "metadata": {},
   "outputs": [
    {
     "name": "stdout",
     "output_type": "stream",
     "text": [
      "Transformation complete. Transformed files saved in 'Industry_transformed_data' directory.\n"
     ]
    }
   ],
   "source": [
    "# Define paths (input & output)\n",
    "input_directory = 'data/Industry_combined_data'\n",
    "output_directory = 'data/Industry_transformed_data'\n",
    "\n",
    "# Function to transform/split data from categorization done using the previous function\n",
    "def transform_data(file_path):\n",
    "    # Load the combined data\n",
    "    df = pd.read_csv(file_path)\n",
    "\n",
    "    # Split the 'Main Category' column\n",
    "    categories_split = df['Main Category'].str.split(',', expand=True)\n",
    "\n",
    "    # Create new column names (one for each year from 2010 to 2024)\n",
    "    year_columns = [f\"{year}_Average\" for year in range(2010, 2025)]\n",
    "\n",
    "    # Create data frame with the proper columns for our data\n",
    "    transformed_df = pd.DataFrame(columns=[\"Main Category\"] + year_columns)\n",
    "\n",
    "    # Iterate through each row in the split categories\n",
    "    for index, row in categories_split.iterrows():\n",
    "        # The first value is the Main Category\n",
    "        main_category = row[0]\n",
    "        \n",
    "        # The remaining values are the averages\n",
    "        averages = row[1:].tolist()\n",
    "        \n",
    "        # Fill the remaining values with NaN in case there are fewer than 15\n",
    "        while len(averages) < 15:\n",
    "            averages.append(float('nan'))  # Append NaN in case of gaps/blanks\n",
    "        \n",
    "        # Create a new row for the transformed DataFrame\n",
    "        transformed_df.loc[index] = [main_category] + averages[:15]  # Takes the first 15 values\n",
    "\n",
    "    return transformed_df\n",
    "\n",
    "# Process each CSV file (combined_data) in the input directory\n",
    "for filename in os.listdir(input_directory):\n",
    "    if filename.endswith('.csv'):\n",
    "        file_path = os.path.join(input_directory, filename)\n",
    "        transformed_df = transform_data(file_path)\n",
    "\n",
    "        # Save the transformed DataFrame to a new CSV file in the output directory\n",
    "        output_file_path = os.path.join(output_directory, f'transformed_{filename}')\n",
    "        transformed_df.to_csv(output_file_path, index=False)\n",
    "\n",
    "print(\"Transformation complete. Transformed files saved in 'Industry_transformed_data' directory.\")"
   ]
  },
  {
   "cell_type": "code",
   "execution_count": 80,
   "id": "d6e4cc9c-3893-4382-88ab-200f48047062",
   "metadata": {},
   "outputs": [],
   "source": [
    "# CREATE DATABASE TO HOLD ALL THIS DATA !\n",
    "# Create a list to hold files for all 58 counties\n",
    "dataframes = []\n",
    "\n",
    "# Loop through all CSV files in the directory\n",
    "for county in glob.glob(\"data/Industry_transformed_data/*.csv\"):\n",
    "    \n",
    "    # Read the CSV file\n",
    "    county_df = pd.read_csv(county)\n",
    "    \n",
    "    # Extract county name from the filename, assign county ID to be name of county\n",
    "    county_id = county.split(\"/\")[-1].replace(\".csv\", \"\").replace(\"Industry_transformed_data\\\\transformed_combined_\", \"\").replace(\"_county\", \"\").replace(\"_\", \" \")\n",
    "    county_df['County_ID'] = county_id\n",
    "    \n",
    "    # Append the DataFrame to the list\n",
    "    dataframes.append(county_df)\n",
    "\n",
    "# Concatenate all DataFrames into one\n",
    "combined_df = pd.concat(dataframes, ignore_index=True)"
   ]
  },
  {
   "cell_type": "code",
   "execution_count": 82,
   "id": "8a5d0219-2f78-41e7-9236-e16bbaf94d0f",
   "metadata": {},
   "outputs": [],
   "source": [
    "combined_df.to_json(\"data/industry_county_json.json\", orient=\"records\")"
   ]
  },
  {
   "cell_type": "code",
   "execution_count": null,
   "id": "6ac0a396-722f-4172-b22a-6b6c096f994f",
   "metadata": {},
   "outputs": [],
   "source": []
  }
 ],
 "metadata": {
  "kernelspec": {
   "display_name": "Python 3 (ipykernel)",
   "language": "python",
   "name": "python3"
  },
  "language_info": {
   "codemirror_mode": {
    "name": "ipython",
    "version": 3
   },
   "file_extension": ".py",
   "mimetype": "text/x-python",
   "name": "python",
   "nbconvert_exporter": "python",
   "pygments_lexer": "ipython3",
   "version": "3.11.7"
  }
 },
 "nbformat": 4,
 "nbformat_minor": 5
}
